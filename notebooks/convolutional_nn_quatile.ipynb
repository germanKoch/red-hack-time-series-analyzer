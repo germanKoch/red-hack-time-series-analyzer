{
 "cells": [
  {
   "cell_type": "code",
   "execution_count": 70,
   "metadata": {},
   "outputs": [],
   "source": [
    "import pandas as pd\n",
    "import torch\n",
    "import torch.nn as nn\n",
    "import torch.optim as optim\n",
    "from torch.utils.data import DataLoader, TensorDataset\n",
    "import numpy as np\n",
    "import pytorch_lightning as pl\n",
    "import pandas as pd\n",
    "import matplotlib.pyplot as plt\n",
    "from sklearn.preprocessing import MinMaxScaler"
   ]
  },
  {
   "cell_type": "code",
   "execution_count": 3,
   "metadata": {},
   "outputs": [],
   "source": [
    "data = pd.read_csv('./../data/throughput.csv')"
   ]
  },
  {
   "cell_type": "code",
   "execution_count": 71,
   "metadata": {},
   "outputs": [],
   "source": [
    "values = data['sum_call_count'].values\n",
    "values = values.reshape(-1, 1)\n",
    "\n",
    "# Normalize the data\n",
    "scaler = MinMaxScaler()\n",
    "values_scaled = scaler.fit_transform(values)\n",
    "\n",
    "# Create sequences\n",
    "def create_sequences(data, seq_length):\n",
    "    sequences = []\n",
    "    for i in range(len(data) - seq_length):\n",
    "        sequences.append(data[i:i + seq_length])\n",
    "    return np.array(sequences)\n",
    "\n",
    "seq_length = 50\n",
    "X = create_sequences(values_scaled, seq_length)\n",
    "X = torch.tensor(X, dtype=torch.float32)\n",
    "dataset = TensorDataset(X, X)\n",
    "dataloader = DataLoader(dataset, batch_size=32, shuffle=True)\n"
   ]
  },
  {
   "cell_type": "code",
   "execution_count": 84,
   "metadata": {},
   "outputs": [],
   "source": [
    "class QuantileLoss(nn.Module):\n",
    "    def __init__(self, quantiles):\n",
    "        super(QuantileLoss, self).__init__()\n",
    "        self.quantiles = quantiles\n",
    "\n",
    "    def forward(self, y_true, y_pred):\n",
    "        losses = []\n",
    "        for q in self.quantiles:\n",
    "            errors = y_true - y_pred\n",
    "            loss = torch.max(q * errors, (q - 1) * errors)\n",
    "            losses.append(torch.mean(loss))\n",
    "        return torch.mean(torch.stack(losses))\n",
    "\n",
    "quantiles = [0.1, 0.5, 0.9]\n",
    "quantile_loss = QuantileLoss(quantiles)\n"
   ]
  },
  {
   "cell_type": "code",
   "execution_count": 85,
   "metadata": {},
   "outputs": [],
   "source": [
    "class ConvAutoencoder(pl.LightningModule):\n",
    "    def __init__(self, quantile_loss, hidden_size):\n",
    "        super(ConvAutoencoder, self).__init__()\n",
    "        # Encoder\n",
    "        self.encoder = nn.Sequential(\n",
    "            nn.Conv1d(1, hidden_size, 1, padding=1),\n",
    "            nn.ReLU(),\n",
    "            nn.MaxPool1d(2, padding=0),    \n",
    "            nn.Conv1d(hidden_size, hidden_size//2, 3, padding=1),\n",
    "            nn.ReLU(),\n",
    "            nn.MaxPool1d(2, padding=0)     \n",
    "        )\n",
    "        # Decoder\n",
    "        self.decoder = nn.Sequential(\n",
    "            nn.Conv1d(hidden_size//2, hidden_size//2, 3, padding=1), \n",
    "            nn.ReLU(),\n",
    "            nn.Upsample(scale_factor=2),   \n",
    "            nn.Conv1d(hidden_size//2, hidden_size, 3, padding=1),\n",
    "            nn.ReLU(),\n",
    "            nn.Upsample(scale_factor=2),   \n",
    "            nn.Conv1d(hidden_size, len(quantile_loss.quantiles), 3, padding=0),\n",
    "        )\n",
    "        self.loss_fn = quantile_loss\n",
    "    \n",
    "    def forward(self, x):\n",
    "        x = self.encoder(x)\n",
    "        x = self.decoder(x)\n",
    "        return x\n",
    "    \n",
    "    def training_step(self, batch, batch_idx):\n",
    "        inputs, _ = batch\n",
    "        outputs = self(inputs.permute(0, 2, 1))\n",
    "        loss = self.loss_fn(outputs, inputs.permute(0, 2, 1))\n",
    "        self.log('train_loss', loss, on_step=True, on_epoch=True, prog_bar=True, logger=True)\n",
    "        return loss\n",
    "    \n",
    "    def configure_optimizers(self):\n",
    "        return optim.Adam(self.parameters(), lr=0.001)\n"
   ]
  },
  {
   "cell_type": "code",
   "execution_count": 86,
   "metadata": {},
   "outputs": [
    {
     "name": "stderr",
     "output_type": "stream",
     "text": [
      "GPU available: False, used: False\n",
      "TPU available: False, using: 0 TPU cores\n",
      "IPU available: False, using: 0 IPUs\n",
      "HPU available: False, using: 0 HPUs\n",
      "\n",
      "  | Name    | Type         | Params\n",
      "-----------------------------------------\n",
      "0 | encoder | Sequential   | 1.6 K \n",
      "1 | decoder | Sequential   | 2.6 K \n",
      "2 | loss_fn | QuantileLoss | 0     \n",
      "-----------------------------------------\n",
      "4.3 K     Trainable params\n",
      "0         Non-trainable params\n",
      "4.3 K     Total params\n",
      "0.017     Total estimated model params size (MB)\n",
      "d:\\courses\\MLsimulator\\venv\\lib\\site-packages\\pytorch_lightning\\trainer\\connectors\\data_connector.py:441: The 'train_dataloader' does not have many workers which may be a bottleneck. Consider increasing the value of the `num_workers` argument` to `num_workers=7` in the `DataLoader` to improve performance.\n"
     ]
    },
    {
     "name": "stdout",
     "output_type": "stream",
     "text": [
      "Epoch 1:  42%|████▏     | 565/1351 [00:09<00:13, 58.01it/s, v_num=3, train_loss_step=0.00265, train_loss_epoch=0.00585]"
     ]
    },
    {
     "name": "stderr",
     "output_type": "stream",
     "text": [
      "d:\\courses\\MLsimulator\\venv\\lib\\site-packages\\pytorch_lightning\\trainer\\call.py:54: Detected KeyboardInterrupt, attempting graceful shutdown...\n"
     ]
    }
   ],
   "source": [
    "model = ConvAutoencoder(quantile_loss, hidden_size=32)\n",
    "trainer = pl.Trainer(max_epochs=50, logger=True, log_every_n_steps=1)\n",
    "trainer.fit(model, dataloader)"
   ]
  },
  {
   "cell_type": "code",
   "execution_count": 165,
   "metadata": {},
   "outputs": [],
   "source": [
    "import matplotlib.pyplot as plt\n",
    "import numpy as np\n",
    "\n",
    "def plot_time_series_with_quantiles(time_series, quantiles, seq_length, title='Time Series with Quantiles'):\n",
    "    \"\"\"\n",
    "    Plots the real time series and quantiles predicted by the autoencoder.\n",
    "\n",
    "    Parameters:\n",
    "    - time_series: numpy array of the actual time series values.\n",
    "    - quantiles: numpy array of shape (n_samples, n_quantiles, seq_length) containing the predicted quantiles.\n",
    "    - seq_length: int, length of the sequence used for the predictions.\n",
    "    - title: str, title of the plot.\n",
    "    \"\"\"\n",
    "    \n",
    "    # Plot the actual time series\n",
    "    plt.figure(figsize=(14, 8))\n",
    "    plt.plot(time_series, label='Actual Time Series', color='blue')\n",
    "    \n",
    "    # Plot the quantiles\n",
    "    for index in range(0,len(quantile_predictions)//2):\n",
    "        print()\n",
    "        plt.fill_between(np.arange(seq_length, len(time_series) + 1), \n",
    "                         quantiles[index], quantiles[len(quantile_predictions)-index-1], label=f'Quantile {index+1}',)\n",
    "    plt.title(title)\n",
    "    plt.xlabel('Time')\n",
    "    plt.ylabel('Value')\n",
    "    plt.legend()\n",
    "    plt.show()\n",
    "\n",
    "# Example usage\n",
    "# Assuming `actual_values` is a numpy array of the actual time series values\n",
    "# and `predicted_quantiles` is a numpy array of shape (n_samples, n_quantiles, seq_length)\n",
    "\n",
    "# actual_values = np.array(...)  # Your actual time series values\n",
    "# predicted_quantiles = np.array(...)  # The predicted quantiles from the model\n",
    "\n",
    "# plot_time_series_with_quantiles(actual_values, predicted_quantiles, seq_length=56)\n"
   ]
  },
  {
   "cell_type": "code",
   "execution_count": 166,
   "metadata": {},
   "outputs": [],
   "source": [
    "inputs = dataset[0][0].permute(1, 0)\n",
    "model.eval()\n",
    "with torch.no_grad():\n",
    "    quantile_predictions = model(inputs.unsqueeze(0))  # Shape: (1, n_quantiles, seq_length)\n"
   ]
  },
  {
   "cell_type": "code",
   "execution_count": 167,
   "metadata": {},
   "outputs": [
    {
     "data": {
      "image/png": "[encoded data removed]",
      "text/plain": [
       "<Figure size 1400x800 with 1 Axes>"
      ]
     },
     "metadata": {},
     "output_type": "display_data"
    }
   ],
   "source": [
    "plot_time_series_with_quantiles(inputs.squeeze(0).numpy(), quantile_predictions.squeeze(0), 50)"
   ]
  },
  {
   "cell_type": "code",
   "execution_count": 168,
   "metadata": {},
   "outputs": [
    {
     "data": {
      "text/plain": [
       "tensor([[0.3377, 0.3389, 0.3377, 0.3366, 0.3341, 0.3312, 0.3184, 0.3127, 0.3065,\n",
       "         0.3038, 0.2994, 0.2947, 0.2868, 0.2823, 0.2762, 0.2721, 0.2704, 0.2704,\n",
       "         0.2710, 0.2723, 0.2763, 0.2787, 0.2812, 0.2841, 0.2894, 0.2932, 0.2997,\n",
       "         0.3041, 0.3127, 0.3156, 0.3207, 0.3217, 0.3175, 0.3144, 0.3104, 0.3087,\n",
       "         0.3061, 0.3040, 0.2951, 0.2905, 0.2834, 0.2803, 0.2762, 0.2764, 0.2716,\n",
       "         0.2690, 0.2630, 0.2609, 0.2558, 0.2553],\n",
       "        [0.3384, 0.3397, 0.3385, 0.3378, 0.3346, 0.3313, 0.3189, 0.3142, 0.3073,\n",
       "         0.3031, 0.2985, 0.2949, 0.2868, 0.2827, 0.2758, 0.2729, 0.2705, 0.2699,\n",
       "         0.2704, 0.2723, 0.2761, 0.2782, 0.2811, 0.2837, 0.2890, 0.2931, 0.3001,\n",
       "         0.3044, 0.3130, 0.3159, 0.3215, 0.3217, 0.3181, 0.3149, 0.3102, 0.3086,\n",
       "         0.3062, 0.3035, 0.2939, 0.2893, 0.2817, 0.2812, 0.2752, 0.2738, 0.2703,\n",
       "         0.2683, 0.2622, 0.2596, 0.2545, 0.2555],\n",
       "        [0.3382, 0.3386, 0.3388, 0.3382, 0.3347, 0.3293, 0.3224, 0.3139, 0.3067,\n",
       "         0.3030, 0.2999, 0.2944, 0.2866, 0.2807, 0.2756, 0.2721, 0.2701, 0.2701,\n",
       "         0.2695, 0.2714, 0.2754, 0.2786, 0.2795, 0.2829, 0.2889, 0.2940, 0.2988,\n",
       "         0.3035, 0.3113, 0.3160, 0.3196, 0.3203, 0.3164, 0.3123, 0.3098, 0.3077,\n",
       "         0.3051, 0.3006, 0.2957, 0.2900, 0.2841, 0.2797, 0.2781, 0.2760, 0.2705,\n",
       "         0.2677, 0.2627, 0.2598, 0.2557, 0.2547]])"
      ]
     },
     "execution_count": 168,
     "metadata": {},
     "output_type": "execute_result"
    }
   ],
   "source": [
    "quantile_predictions.squeeze(0)"
   ]
  },
  {
   "cell_type": "code",
   "execution_count": 169,
   "metadata": {},
   "outputs": [
    {
     "name": "stdout",
     "output_type": "stream",
     "text": [
      "\u001b[1;31mSignature:\u001b[0m\n",
      "\u001b[0mplt\u001b[0m\u001b[1;33m.\u001b[0m\u001b[0mfill_between\u001b[0m\u001b[1;33m(\u001b[0m\u001b[1;33m\n",
      "\u001b[0m    \u001b[0mx\u001b[0m\u001b[1;33m:\u001b[0m \u001b[1;34m'ArrayLike'\u001b[0m\u001b[1;33m,\u001b[0m\u001b[1;33m\n",
      "\u001b[0m    \u001b[0my1\u001b[0m\u001b[1;33m:\u001b[0m \u001b[1;34m'ArrayLike | float'\u001b[0m\u001b[1;33m,\u001b[0m\u001b[1;33m\n",
      "\u001b[0m    \u001b[0my2\u001b[0m\u001b[1;33m:\u001b[0m \u001b[1;34m'ArrayLike | float'\u001b[0m \u001b[1;33m=\u001b[0m \u001b[1;36m0\u001b[0m\u001b[1;33m,\u001b[0m\u001b[1;33m\n",
      "\u001b[0m    \u001b[0mwhere\u001b[0m\u001b[1;33m:\u001b[0m \u001b[1;34m'Sequence[bool] | None'\u001b[0m \u001b[1;33m=\u001b[0m \u001b[1;32mNone\u001b[0m\u001b[1;33m,\u001b[0m\u001b[1;33m\n",
      "\u001b[0m    \u001b[0minterpolate\u001b[0m\u001b[1;33m:\u001b[0m \u001b[1;34m'bool'\u001b[0m \u001b[1;33m=\u001b[0m \u001b[1;32mFalse\u001b[0m\u001b[1;33m,\u001b[0m\u001b[1;33m\n",
      "\u001b[0m    \u001b[0mstep\u001b[0m\u001b[1;33m:\u001b[0m \u001b[1;34m\"Literal['pre', 'post', 'mid'] | None\"\u001b[0m \u001b[1;33m=\u001b[0m \u001b[1;32mNone\u001b[0m\u001b[1;33m,\u001b[0m\u001b[1;33m\n",
      "\u001b[0m    \u001b[1;33m*\u001b[0m\u001b[1;33m,\u001b[0m\u001b[1;33m\n",
      "\u001b[0m    \u001b[0mdata\u001b[0m\u001b[1;33m=\u001b[0m\u001b[1;32mNone\u001b[0m\u001b[1;33m,\u001b[0m\u001b[1;33m\n",
      "\u001b[0m    \u001b[1;33m**\u001b[0m\u001b[0mkwargs\u001b[0m\u001b[1;33m,\u001b[0m\u001b[1;33m\n",
      "\u001b[0m\u001b[1;33m)\u001b[0m \u001b[1;33m->\u001b[0m \u001b[1;34m'PolyCollection'\u001b[0m\u001b[1;33m\u001b[0m\u001b[1;33m\u001b[0m\u001b[0m\n",
      "\u001b[1;31mDocstring:\u001b[0m\n",
      "Fill the area between two horizontal curves.\n",
      "\n",
      "The curves are defined by the points (*x*, *y1*) and (*x*,\n",
      "*y2*).  This creates one or multiple polygons describing the filled\n",
      "area.\n",
      "\n",
      "You may exclude some horizontal sections from filling using *where*.\n",
      "\n",
      "By default, the edges connect the given points directly.  Use *step*\n",
      "if the filling should be a step function, i.e. constant in between\n",
      "*x*.\n",
      "\n",
      "Parameters\n",
      "----------\n",
      "x : array (length N)\n",
      "    The x coordinates of the nodes defining the curves.\n",
      "\n",
      "y1 : array (length N) or scalar\n",
      "    The y coordinates of the nodes defining the first curve.\n",
      "\n",
      "y2 : array (length N) or scalar, default: 0\n",
      "    The y coordinates of the nodes defining the second curve.\n",
      "\n",
      "where : array of bool (length N), optional\n",
      "    Define *where* to exclude some horizontal regions from being filled.\n",
      "    The filled regions are defined by the coordinates ``x[where]``.\n",
      "    More precisely, fill between ``x[i]`` and ``x[i+1]`` if\n",
      "    ``where[i] and where[i+1]``.  Note that this definition implies\n",
      "    that an isolated *True* value between two *False* values in *where*\n",
      "    will not result in filling.  Both sides of the *True* position\n",
      "    remain unfilled due to the adjacent *False* values.\n",
      "\n",
      "interpolate : bool, default: False\n",
      "    This option is only relevant if *where* is used and the two curves\n",
      "    are crossing each other.\n",
      "\n",
      "    Semantically, *where* is often used for *y1* > *y2* or\n",
      "    similar.  By default, the nodes of the polygon defining the filled\n",
      "    region will only be placed at the positions in the *x* array.\n",
      "    Such a polygon cannot describe the above semantics close to the\n",
      "    intersection.  The x-sections containing the intersection are\n",
      "    simply clipped.\n",
      "\n",
      "    Setting *interpolate* to *True* will calculate the actual\n",
      "    intersection point and extend the filled region up to this point.\n",
      "\n",
      "step : {'pre', 'post', 'mid'}, optional\n",
      "    Define *step* if the filling should be a step function,\n",
      "    i.e. constant in between *x*.  The value determines where the\n",
      "    step will occur:\n",
      "\n",
      "    - 'pre': The y value is continued constantly to the left from\n",
      "      every *x* position, i.e. the interval ``(x[i-1], x[i]]`` has the\n",
      "      value ``y[i]``.\n",
      "    - 'post': The y value is continued constantly to the right from\n",
      "      every *x* position, i.e. the interval ``[x[i], x[i+1])`` has the\n",
      "      value ``y[i]``.\n",
      "    - 'mid': Steps occur half-way between the *x* positions.\n",
      "\n",
      "Returns\n",
      "-------\n",
      "`.PolyCollection`\n",
      "    A `.PolyCollection` containing the plotted polygons.\n",
      "\n",
      "Other Parameters\n",
      "----------------\n",
      "data : indexable object, optional\n",
      "    If given, the following parameters also accept a string ``s``, which is\n",
      "    interpreted as ``data[s]`` (unless this raises an exception):\n",
      "\n",
      "    *x*, *y1*, *y2*, *where*\n",
      "\n",
      "**kwargs\n",
      "    All other keyword arguments are passed on to `.PolyCollection`.\n",
      "    They control the `.Polygon` properties:\n",
      "\n",
      "    Properties:\n",
      "    agg_filter: a filter function, which takes a (m, n, 3) float array and a dpi value, and returns a (m, n, 3) array and two offsets from the bottom left corner of the image\n",
      "    alpha: array-like or scalar or None\n",
      "    animated: bool\n",
      "    antialiased or aa or antialiaseds: bool or list of bools\n",
      "    array: array-like or None\n",
      "    capstyle: `.CapStyle` or {'butt', 'projecting', 'round'}\n",
      "    clim: (vmin: float, vmax: float)\n",
      "    clip_box: `~matplotlib.transforms.BboxBase` or None\n",
      "    clip_on: bool\n",
      "    clip_path: Patch or (Path, Transform) or None\n",
      "    cmap: `.Colormap` or str or None\n",
      "    color: :mpltype:`color` or list of RGBA tuples\n",
      "    edgecolor or ec or edgecolors: :mpltype:`color` or list of :mpltype:`color` or 'face'\n",
      "    facecolor or facecolors or fc: :mpltype:`color` or list of :mpltype:`color`\n",
      "    figure: `~matplotlib.figure.Figure`\n",
      "    gid: str\n",
      "    hatch: {'/', '\\\\', '|', '-', '+', 'x', 'o', 'O', '.', '*'}\n",
      "    in_layout: bool\n",
      "    joinstyle: `.JoinStyle` or {'miter', 'round', 'bevel'}\n",
      "    label: object\n",
      "    linestyle or dashes or linestyles or ls: str or tuple or list thereof\n",
      "    linewidth or linewidths or lw: float or list of floats\n",
      "    mouseover: bool\n",
      "    norm: `.Normalize` or str or None\n",
      "    offset_transform or transOffset: `.Transform`\n",
      "    offsets: (N, 2) or (2,) array-like\n",
      "    path_effects: list of `.AbstractPathEffect`\n",
      "    paths: list of array-like\n",
      "    picker: None or bool or float or callable\n",
      "    pickradius: float\n",
      "    rasterized: bool\n",
      "    sizes: `numpy.ndarray` or None\n",
      "    sketch_params: (scale: float, length: float, randomness: float)\n",
      "    snap: bool or None\n",
      "    transform: `~matplotlib.transforms.Transform`\n",
      "    url: str\n",
      "    urls: list of str or None\n",
      "    verts: list of array-like\n",
      "    verts_and_codes: unknown\n",
      "    visible: bool\n",
      "    zorder: float\n",
      "\n",
      "See Also\n",
      "--------\n",
      "fill_between : Fill between two sets of y-values.\n",
      "fill_betweenx : Fill between two sets of x-values.\n",
      "\n",
      "Notes\n",
      "-----\n",
      "\n",
      ".. note::\n",
      "\n",
      "    This is the :ref:`pyplot wrapper <pyplot_interface>` for `.axes.Axes.fill_between`.\n",
      "\u001b[1;31mFile:\u001b[0m      d:\\courses\\mlsimulator\\venv\\lib\\site-packages\\matplotlib\\pyplot.py\n",
      "\u001b[1;31mType:\u001b[0m      function"
     ]
    }
   ],
   "source": [
    "plt.fill_between?"
   ]
  },
  {
   "cell_type": "code",
   "execution_count": null,
   "metadata": {},
   "outputs": [],
   "source": []
  }
 ],
 "metadata": {
  "kernelspec": {
   "display_name": "venv",
   "language": "python",
   "name": "python3"
  },
  "language_info": {
   "codemirror_mode": {
    "name": "ipython",
    "version": 3
   },
   "file_extension": ".py",
   "mimetype": "text/x-python",
   "name": "python",
   "nbconvert_exporter": "python",
   "pygments_lexer": "ipython3",
   "version": "3.10.9"
  }
 },
 "nbformat": 4,
 "nbformat_minor": 2
}
