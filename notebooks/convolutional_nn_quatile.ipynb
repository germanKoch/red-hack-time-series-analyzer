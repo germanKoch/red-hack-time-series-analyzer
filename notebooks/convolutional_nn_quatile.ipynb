{
 "cells": [
  {
   "cell_type": "code",
   "execution_count": 404,
   "metadata": {},
   "outputs": [],
   "source": [
    "import pandas as pd\n",
    "import torch\n",
    "import torch.nn as nn\n",
    "import torch.optim as optim\n",
    "from torch.utils.data import DataLoader, TensorDataset, random_split\n",
    "import numpy as np\n",
    "import pytorch_lightning as pl\n",
    "import pandas as pd\n",
    "import matplotlib.pyplot as plt\n",
    "from pytorch_lightning.callbacks import EarlyStopping, ModelCheckpoint\n",
    "from sklearn.preprocessing import MinMaxScaler, StandardScaler\n",
    "import pandas as pd\n",
    "import numpy as np\n",
    "import matplotlib.pyplot as plt\n",
    "from statsmodels.tsa.seasonal import seasonal_decompose"
   ]
  },
  {
   "cell_type": "code",
   "execution_count": 443,
   "metadata": {},
   "outputs": [
    {
     "data": {
      "text/html": [
       "<div>\n",
       "<style scoped>\n",
       "    .dataframe tbody tr th:only-of-type {\n",
       "        vertical-align: middle;\n",
       "    }\n",
       "\n",
       "    .dataframe tbody tr th {\n",
       "        vertical-align: top;\n",
       "    }\n",
       "\n",
       "    .dataframe thead th {\n",
       "        text-align: right;\n",
       "    }\n",
       "</style>\n",
       "<table border=\"1\" class=\"dataframe\">\n",
       "  <thead>\n",
       "    <tr style=\"text-align: right;\">\n",
       "      <th></th>\n",
       "      <th>point</th>\n",
       "      <th>value</th>\n",
       "      <th>de_seasonalized</th>\n",
       "    </tr>\n",
       "  </thead>\n",
       "  <tbody>\n",
       "    <tr>\n",
       "      <th>0</th>\n",
       "      <td>2024-04-15 23:32:00</td>\n",
       "      <td>0.999679</td>\n",
       "      <td>0.999191</td>\n",
       "    </tr>\n",
       "    <tr>\n",
       "      <th>1</th>\n",
       "      <td>2024-04-15 23:33:00</td>\n",
       "      <td>0.999745</td>\n",
       "      <td>0.999275</td>\n",
       "    </tr>\n",
       "    <tr>\n",
       "      <th>2</th>\n",
       "      <td>2024-04-15 23:34:00</td>\n",
       "      <td>0.999687</td>\n",
       "      <td>0.999091</td>\n",
       "    </tr>\n",
       "    <tr>\n",
       "      <th>3</th>\n",
       "      <td>2024-04-15 23:35:00</td>\n",
       "      <td>0.999812</td>\n",
       "      <td>0.999340</td>\n",
       "    </tr>\n",
       "    <tr>\n",
       "      <th>4</th>\n",
       "      <td>2024-04-15 23:36:00</td>\n",
       "      <td>0.999489</td>\n",
       "      <td>0.999181</td>\n",
       "    </tr>\n",
       "    <tr>\n",
       "      <th>...</th>\n",
       "      <td>...</td>\n",
       "      <td>...</td>\n",
       "      <td>...</td>\n",
       "    </tr>\n",
       "    <tr>\n",
       "      <th>43267</th>\n",
       "      <td>2024-05-16 00:54:00</td>\n",
       "      <td>0.998828</td>\n",
       "      <td>0.997923</td>\n",
       "    </tr>\n",
       "    <tr>\n",
       "      <th>43268</th>\n",
       "      <td>2024-05-16 00:55:00</td>\n",
       "      <td>0.998495</td>\n",
       "      <td>0.997597</td>\n",
       "    </tr>\n",
       "    <tr>\n",
       "      <th>43269</th>\n",
       "      <td>2024-05-16 00:56:00</td>\n",
       "      <td>0.997736</td>\n",
       "      <td>0.996918</td>\n",
       "    </tr>\n",
       "    <tr>\n",
       "      <th>43270</th>\n",
       "      <td>2024-05-16 00:57:00</td>\n",
       "      <td>0.997999</td>\n",
       "      <td>0.997213</td>\n",
       "    </tr>\n",
       "    <tr>\n",
       "      <th>43271</th>\n",
       "      <td>2024-05-16 00:58:00</td>\n",
       "      <td>0.999145</td>\n",
       "      <td>0.998325</td>\n",
       "    </tr>\n",
       "  </tbody>\n",
       "</table>\n",
       "<p>43272 rows × 3 columns</p>\n",
       "</div>"
      ],
      "text/plain": [
       "                    point     value  de_seasonalized\n",
       "0     2024-04-15 23:32:00  0.999679         0.999191\n",
       "1     2024-04-15 23:33:00  0.999745         0.999275\n",
       "2     2024-04-15 23:34:00  0.999687         0.999091\n",
       "3     2024-04-15 23:35:00  0.999812         0.999340\n",
       "4     2024-04-15 23:36:00  0.999489         0.999181\n",
       "...                   ...       ...              ...\n",
       "43267 2024-05-16 00:54:00  0.998828         0.997923\n",
       "43268 2024-05-16 00:55:00  0.998495         0.997597\n",
       "43269 2024-05-16 00:56:00  0.997736         0.996918\n",
       "43270 2024-05-16 00:57:00  0.997999         0.997213\n",
       "43271 2024-05-16 00:58:00  0.999145         0.998325\n",
       "\n",
       "[43272 rows x 3 columns]"
      ]
     },
     "execution_count": 443,
     "metadata": {},
     "output_type": "execute_result"
    }
   ],
   "source": [
    "data"
   ]
  },
  {
   "cell_type": "code",
   "execution_count": 405,
   "metadata": {},
   "outputs": [],
   "source": [
    "# Utils\n",
    "import matplotlib.pyplot as plt\n",
    "import numpy as np\n",
    "\n",
    "# save checkpoint\n",
    "# Function to save model checkpoint\n",
    "def save_checkpoint(model, scaler, threshold, path='model_checkpoint.pth'):\n",
    "    checkpoint = {\n",
    "        'state_dict': model.state_dict(),\n",
    "        'threshold': threshold,\n",
    "        'scaler': scaler\n",
    "    }\n",
    "    torch.save(checkpoint, path)\n",
    "    print(f'Checkpoint saved at epoch')\n",
    "\n",
    "def load_checkpoint(path, model):\n",
    "    checkpoint = torch.load(path)\n",
    "    model.load_state_dict(checkpoint['state_dict'])\n",
    "    model.threshold = checkpoint['threshold']\n",
    "    model.scaler = checkpoint['scaler']\n",
    "    return model\n",
    "\n",
    "\n",
    "def plot_time_series(time_series, prediction, title='Time Series with Quantiles'):\n",
    "    \"\"\"\n",
    "    Plots the real time series and quantiles predicted by the autoencoder.\n",
    "\n",
    "    Parameters:\n",
    "    - time_series: numpy array of the actual time series values.\n",
    "    - quantiles: numpy array of shape (n_samples, n_quantiles, seq_length) containing the predicted quantiles.\n",
    "    - seq_length: int, length of the sequence used for the predictions.\n",
    "    - title: str, title of the plot.\n",
    "    \"\"\"\n",
    "    \n",
    "    # Plot the actual time series\n",
    "    plt.figure(figsize=(14, 8))\n",
    "    plt.plot(time_series, label='Actual Time Series', color='blue')\n",
    "    plt.plot(prediction, label='Predition', color='orange')\n",
    "    plt.title(title)\n",
    "    plt.xlabel('Time')\n",
    "    plt.ylabel('Value')\n",
    "    plt.legend()\n",
    "    plt.show()\n",
    "\n",
    "def plot_time_series_with_errors_area(time_series, prediction, error_low, error_high):\n",
    "    \"\"\"\n",
    "    Plots the real time series and quantiles predicted by the autoencoder.\n",
    "\n",
    "    Parameters:\n",
    "    - time_series: numpy array of the actual time series values.\n",
    "    - quantiles: numpy array of shape (n_samples, n_quantiles, seq_length) containing the predicted quantiles.\n",
    "    - seq_length: int, length of the sequence used for the predictions.\n",
    "    - title: str, title of the plot.\n",
    "    \"\"\"\n",
    "    \n",
    "    # Plot the actual time series\n",
    "    plt.figure(figsize=(14, 8))\n",
    "    plt.plot(time_series, label='Actual Time Series', color='blue')\n",
    "    plt.plot(prediction, label='Predition', color='orange')\n",
    "    plt.fill_between(np.arange(0, len(time_series)), error_low, error_high, alpha=0.3)\n",
    "    plt.xlabel('Time')\n",
    "    plt.ylabel('Value')\n",
    "    plt.legend()\n",
    "    plt.show()\n",
    "\n",
    "def plot_time_series_with_quantiles(time_series, quantiles, seq_length, title='Time Series with Quantiles'):\n",
    "    \"\"\"\n",
    "    Plots the real time series and quantiles predicted by the autoencoder.\n",
    "\n",
    "    Parameters:\n",
    "    - time_series: numpy array of the actual time series values.\n",
    "    - quantiles: numpy array of shape (n_samples, n_quantiles, seq_length) containing the predicted quantiles.\n",
    "    - seq_length: int, length of the sequence used for the predictions.\n",
    "    - title: str, title of the plot.\n",
    "    \"\"\"\n",
    "    \n",
    "    # Plot the actual time series\n",
    "    plt.figure(figsize=(14, 8))\n",
    "    plt.plot(time_series, label='Actual Time Series', color='blue')\n",
    "    \n",
    "    # Plot the quantiles\n",
    "    for index in range(0, len(quantiles)//2):\n",
    "        print(quantiles[index])\n",
    "        print(quantiles[len(quantiles)-index-1])\n",
    "        plt.fill_between(np.arange(0, len(time_series)), \n",
    "                         quantiles[index], quantiles[len(quantiles)-index-1], label=f'Quantile {index+1}', alpha=0.3)\n",
    "    plt.title(title)\n",
    "    plt.xlabel('Time')\n",
    "    plt.ylabel('Value')\n",
    "    plt.legend()\n",
    "    plt.show()\n",
    "\n"
   ]
  },
  {
   "cell_type": "code",
   "execution_count": 406,
   "metadata": {},
   "outputs": [],
   "source": [
    "def get_scaler(values):\n",
    "    values = values.reshape(-1, 1)\n",
    "    scaler = StandardScaler()\n",
    "    scaler = scaler.fit(values)\n",
    "    return scaler\n",
    "\n",
    "\n",
    "def create_dataloader(values, scaler, seq_length, train_ratio):\n",
    "    values = values.reshape(-1, 1)\n",
    "\n",
    "    # Normalize the data\n",
    "    values_scaled = scaler.transform(values)\n",
    "\n",
    "    # Create sequences\n",
    "    def create_sequences(data, seq_length):\n",
    "        sequences = []\n",
    "        for i in range(len(data) - seq_length):\n",
    "            sequences.append(data[i:i + seq_length])\n",
    "        return np.array(sequences)\n",
    "\n",
    "    train_size = int(train_ratio * len(values_scaled))\n",
    "    train_data = values_scaled[:train_size]\n",
    "    val_data = values_scaled[train_size:]\n",
    "\n",
    "    X_train = create_sequences(train_data, seq_length)\n",
    "    X_train = torch.tensor(X_train, dtype=torch.float32)\n",
    "    train_dataset = TensorDataset(X_train, X_train)\n",
    "\n",
    "    X_val = create_sequences(val_data, seq_length)\n",
    "    X_val = torch.tensor(X_val, dtype=torch.float32)\n",
    "    val_dataset = TensorDataset(X_val, X_val)\n",
    "    \n",
    "    train_dataloader = DataLoader(train_dataset, batch_size=32, shuffle=True)\n",
    "    val_dataloader = DataLoader(val_dataset, batch_size=32, shuffle=False)\n",
    "    return train_data, val_data, train_dataset, val_dataset, train_dataloader, val_dataloader"
   ]
  },
  {
   "cell_type": "code",
   "execution_count": 419,
   "metadata": {},
   "outputs": [],
   "source": [
    "throughput = pd.read_csv('./../data/throughput.csv', parse_dates=['point'])\n",
    "web_response = pd.read_csv('./../data/web_response.csv', parse_dates=['point'])\n",
    "apdex = pd.read_csv('./../data/apdex.csv', parse_dates=['point'])\n",
    "SEQ_LEN = 128"
   ]
  },
  {
   "cell_type": "code",
   "execution_count": 430,
   "metadata": {},
   "outputs": [],
   "source": [
    "data = apdex"
   ]
  },
  {
   "cell_type": "code",
   "execution_count": 431,
   "metadata": {},
   "outputs": [],
   "source": [
    "data['point'] = pd.to_datetime(data['point'])\n",
    "data.set_index('point', inplace=True)\n",
    "result = seasonal_decompose(data['value'], model='additive', period=1440)  # Period is the number of minutes in a day\n",
    "data['de_seasonalized'] = data['value'] - result.seasonal\n",
    "data.reset_index(inplace=True)"
   ]
  },
  {
   "cell_type": "markdown",
   "metadata": {},
   "source": [
    "Comvolutional"
   ]
  },
  {
   "cell_type": "code",
   "execution_count": 432,
   "metadata": {},
   "outputs": [],
   "source": [
    "class ConvAutoencoder(pl.LightningModule):\n",
    "    def __init__(self, loss, hidden_size, seq_len, dropout_prob):\n",
    "        super(ConvAutoencoder, self).__init__()\n",
    "        # Encoder\n",
    "        self.encoder = nn.Sequential(\n",
    "            nn.Conv1d(1, hidden_size, 3, padding=1),  # Output: [batch_size, 32, seq_len]\n",
    "            nn.ReLU(),\n",
    "            nn.MaxPool1d(2, stride=2),       # Output: [batch_size, 32, seq_len//2]\n",
    "            nn.Conv1d(hidden_size, hidden_size//2, 3, padding=1), # Output: [batch_size, 16, seq_len//2]\n",
    "            nn.ReLU(),\n",
    "            nn.MaxPool1d(2, stride=2),       # Output: [batch_size, 16, seq_len//4]\n",
    "            nn.Conv1d(hidden_size//2, hidden_size//4, 3, padding=1),  # Output: [batch_size, 8, seq_len//4]\n",
    "            nn.ReLU(),\n",
    "            nn.MaxPool1d(2, stride=2)        # Output: [batch_size, 8, seq_len//8]\n",
    "        )\n",
    "        self.decoder = nn.Sequential(\n",
    "            nn.ConvTranspose1d(hidden_size//4, hidden_size//2, 4, stride=2, padding=1), # Output: [batch_size, 16, seq_len//4]\n",
    "            nn.ReLU(),\n",
    "            nn.ConvTranspose1d(hidden_size//2, hidden_size, 4, stride=2, padding=1), # Output: [batch_size, 32, seq_len//2]\n",
    "            nn.ReLU(),\n",
    "            nn.ConvTranspose1d(hidden_size, 1, 4, stride=2, padding=1),  # Output: [batch_size, 1, seq_len]\n",
    "        )\n",
    "        self.loss = loss\n",
    "        self.seq_len = seq_len\n",
    "    \n",
    "    def forward(self, x):\n",
    "        x = x.permute(0, 2, 1)  # [batch_size, seq_len, 1] -> [batch_size, 1, seq_len]\n",
    "        encoded = self.encoder(x)\n",
    "        decoded = self.decoder(encoded)\n",
    "        decoded = decoded.permute(0, 2, 1)  # [batch_size, 1, seq_len] -> [batch_size, seq_len, 1]\n",
    "        return decoded\n",
    "    \n",
    "    def training_step(self, batch, batch_idx):\n",
    "        inputs, _ = batch\n",
    "        outputs = self(inputs)\n",
    "        loss = self.loss(outputs, inputs.permute(0, 2, 1))\n",
    "        self.log('train_loss', loss, on_step=True, on_epoch=True, prog_bar=True, logger=True)\n",
    "        return loss\n",
    "    \n",
    "    def validation_step(self, batch, batch_idx):\n",
    "        x, y = batch\n",
    "        y_hat = self.forward(x)\n",
    "        loss = self.loss(y_hat, y)\n",
    "        self.log('val_loss', loss, on_step=True, on_epoch=True, prog_bar=True, logger=True)\n",
    "\n",
    "    def configure_optimizers(self):\n",
    "        optimizer = torch.optim.Adam(self.parameters(), lr=0.0001)\n",
    "        return optimizer\n",
    "    \n",
    "    # Function to evaluate model on validation set\n",
    "    def evaluate_threshhold(self, val_loader, percentile):\n",
    "        self.eval()  # Set model to evaluation mode\n",
    "        val_loss = []\n",
    "        criterion = nn.L1Loss()\n",
    "        with torch.no_grad():  # Disable gradient calculation\n",
    "            for x, y in val_loader:\n",
    "                y_hat = self(x)\n",
    "                loss = criterion(y_hat, y)\n",
    "                val_loss.append(loss.item())\n",
    "        THRESHOLD = np.percentile(val_loss, percentile)\n",
    "        self.threshold = THRESHOLD\n",
    "        return THRESHOLD\n",
    "\n",
    "    \n",
    "    def configure_optimizers(self):\n",
    "        return optim.Adam(self.parameters(), lr=0.0001)\n"
   ]
  },
  {
   "cell_type": "code",
   "execution_count": 433,
   "metadata": {},
   "outputs": [],
   "source": [
    "scaler = get_scaler(data['de_seasonalized'].values)\n",
    "train_data, val_data, train_dataset, val_dataset, train_dataloader, val_dataloader = create_dataloader(data['de_seasonalized'].values, scaler, SEQ_LEN, 0.8)"
   ]
  },
  {
   "cell_type": "code",
   "execution_count": 434,
   "metadata": {},
   "outputs": [
    {
     "name": "stderr",
     "output_type": "stream",
     "text": [
      "GPU available: False, used: False\n",
      "TPU available: False, using: 0 TPU cores\n",
      "IPU available: False, using: 0 IPUs\n",
      "HPU available: False, using: 0 HPUs\n",
      "d:\\courses\\MLsimulator\\venv\\lib\\site-packages\\pytorch_lightning\\callbacks\\model_checkpoint.py:653: Checkpoint directory D:\\projects\\code\\red-hack-time-series-analyzer\\notebooks exists and is not empty.\n",
      "\n",
      "  | Name    | Type       | Params\n",
      "---------------------------------------\n",
      "0 | encoder | Sequential | 31.3 K\n",
      "1 | decoder | Sequential | 41.7 K\n",
      "2 | loss    | L1Loss     | 0     \n",
      "---------------------------------------\n",
      "73.0 K    Trainable params\n",
      "0         Non-trainable params\n",
      "73.0 K    Total params\n",
      "0.292     Total estimated model params size (MB)\n"
     ]
    },
    {
     "name": "stdout",
     "output_type": "stream",
     "text": [
      "Sanity Checking:   0%|          | 0/2 [00:00<?, ?it/s]"
     ]
    },
    {
     "name": "stdout",
     "output_type": "stream",
     "text": [
      "                                                                           "
     ]
    },
    {
     "name": "stderr",
     "output_type": "stream",
     "text": [
      "d:\\courses\\MLsimulator\\venv\\lib\\site-packages\\pytorch_lightning\\trainer\\connectors\\data_connector.py:441: The 'val_dataloader' does not have many workers which may be a bottleneck. Consider increasing the value of the `num_workers` argument` to `num_workers=7` in the `DataLoader` to improve performance.\n",
      "d:\\courses\\MLsimulator\\venv\\lib\\site-packages\\pytorch_lightning\\trainer\\connectors\\data_connector.py:441: The 'train_dataloader' does not have many workers which may be a bottleneck. Consider increasing the value of the `num_workers` argument` to `num_workers=7` in the `DataLoader` to improve performance.\n"
     ]
    },
    {
     "name": "stdout",
     "output_type": "stream",
     "text": [
      "Epoch 0:   0%|          | 3/1078 [00:00<00:37, 28.59it/s, v_num=8, train_loss_step=0.376]"
     ]
    },
    {
     "name": "stderr",
     "output_type": "stream",
     "text": [
      "d:\\courses\\MLsimulator\\venv\\lib\\site-packages\\torch\\nn\\modules\\loss.py:101: UserWarning: Using a target size (torch.Size([32, 1, 128])) that is different to the input size (torch.Size([32, 128, 1])). This will likely lead to incorrect results due to broadcasting. Please ensure they have the same size.\n",
      "  return F.l1_loss(input, target, reduction=self.reduction)\n"
     ]
    },
    {
     "name": "stdout",
     "output_type": "stream",
     "text": [
      "Epoch 0:  46%|████▋     | 500/1078 [00:16<00:19, 30.02it/s, v_num=8, train_loss_step=0.124] "
     ]
    },
    {
     "name": "stderr",
     "output_type": "stream",
     "text": [
      "Metric val_loss improved. New best score: 0.150\n"
     ]
    },
    {
     "name": "stdout",
     "output_type": "stream",
     "text": [
      "Epoch 0:  93%|█████████▎| 1000/1078 [00:39<00:03, 25.16it/s, v_num=8, train_loss_step=0.111, val_loss_step=0.331, val_loss_epoch=0.150]"
     ]
    },
    {
     "name": "stderr",
     "output_type": "stream",
     "text": [
      "Metric val_loss improved by 0.001 >= min_delta = 0.0. New best score: 0.149\n"
     ]
    },
    {
     "name": "stdout",
     "output_type": "stream",
     "text": [
      "Epoch 1:   0%|          | 3/1078 [00:00<00:38, 28.26it/s, v_num=8, train_loss_step=0.131, val_loss_step=0.335, val_loss_epoch=0.149, train_loss_epoch=0.136]   "
     ]
    },
    {
     "name": "stderr",
     "output_type": "stream",
     "text": [
      "d:\\courses\\MLsimulator\\venv\\lib\\site-packages\\torch\\nn\\modules\\loss.py:101: UserWarning: Using a target size (torch.Size([25, 1, 128])) that is different to the input size (torch.Size([25, 128, 1])). This will likely lead to incorrect results due to broadcasting. Please ensure they have the same size.\n",
      "  return F.l1_loss(input, target, reduction=self.reduction)\n"
     ]
    },
    {
     "name": "stdout",
     "output_type": "stream",
     "text": [
      "Epoch 1:  46%|████▋     | 500/1078 [00:19<00:21, 26.31it/s, v_num=8, train_loss_step=0.118, val_loss_step=0.335, val_loss_epoch=0.149, train_loss_epoch=0.136] "
     ]
    },
    {
     "name": "stderr",
     "output_type": "stream",
     "text": [
      "Metric val_loss improved by 0.004 >= min_delta = 0.0. New best score: 0.145\n"
     ]
    },
    {
     "name": "stdout",
     "output_type": "stream",
     "text": [
      "Epoch 1:  93%|█████████▎| 1000/1078 [00:45<00:03, 22.14it/s, v_num=8, train_loss_step=0.117, val_loss_step=0.333, val_loss_epoch=0.145, train_loss_epoch=0.136]"
     ]
    },
    {
     "name": "stderr",
     "output_type": "stream",
     "text": [
      "Metric val_loss improved by 0.002 >= min_delta = 0.0. New best score: 0.144\n"
     ]
    },
    {
     "name": "stdout",
     "output_type": "stream",
     "text": [
      "Epoch 2:  46%|████▋     | 500/1078 [00:19<00:22, 25.78it/s, v_num=8, train_loss_step=0.113, val_loss_step=0.335, val_loss_epoch=0.144, train_loss_epoch=0.130]  "
     ]
    },
    {
     "name": "stderr",
     "output_type": "stream",
     "text": [
      "Metric val_loss improved by 0.003 >= min_delta = 0.0. New best score: 0.140\n"
     ]
    },
    {
     "name": "stdout",
     "output_type": "stream",
     "text": [
      "Epoch 3:  46%|████▋     | 500/1078 [00:19<00:22, 25.31it/s, v_num=8, train_loss_step=0.117, val_loss_step=0.334, val_loss_epoch=0.141, train_loss_epoch=0.129]  "
     ]
    },
    {
     "name": "stderr",
     "output_type": "stream",
     "text": [
      "Metric val_loss improved by 0.002 >= min_delta = 0.0. New best score: 0.138\n"
     ]
    },
    {
     "name": "stdout",
     "output_type": "stream",
     "text": [
      "Epoch 3:  93%|█████████▎| 1000/1078 [00:46<00:03, 21.31it/s, v_num=8, train_loss_step=0.119, val_loss_step=0.335, val_loss_epoch=0.138, train_loss_epoch=0.129]"
     ]
    },
    {
     "name": "stderr",
     "output_type": "stream",
     "text": [
      "Metric val_loss improved by 0.002 >= min_delta = 0.0. New best score: 0.136\n"
     ]
    },
    {
     "name": "stdout",
     "output_type": "stream",
     "text": [
      "Epoch 7:  46%|████▋     | 500/1078 [00:20<00:23, 24.82it/s, v_num=8, train_loss_step=0.194, val_loss_step=0.337, val_loss_epoch=0.139, train_loss_epoch=0.129]  "
     ]
    },
    {
     "name": "stderr",
     "output_type": "stream",
     "text": [
      "Monitored metric val_loss did not improve in the last 7 records. Best score: 0.136. Signaling Trainer to stop.\n"
     ]
    },
    {
     "name": "stdout",
     "output_type": "stream",
     "text": [
      "Epoch 7:  46%|████▋     | 500/1078 [00:24<00:28, 20.41it/s, v_num=8, train_loss_step=0.194, val_loss_step=0.338, val_loss_epoch=0.138, train_loss_epoch=0.130]"
     ]
    },
    {
     "name": "stderr",
     "output_type": "stream",
     "text": [
      "`Trainer.fit` stopped: `max_epochs=8` reached.\n"
     ]
    },
    {
     "name": "stdout",
     "output_type": "stream",
     "text": [
      "Epoch 7:  46%|████▋     | 500/1078 [00:24<00:28, 20.40it/s, v_num=8, train_loss_step=0.194, val_loss_step=0.338, val_loss_epoch=0.138, train_loss_epoch=0.130]\n"
     ]
    }
   ],
   "source": [
    "# Instantiate the model\n",
    "model = ConvAutoencoder(hidden_size=128, loss=nn.L1Loss(), seq_len=SEQ_LEN, dropout_prob=0.1)\n",
    "# Initialize EarlyStopping callback\n",
    "early_stop_callback = EarlyStopping(\n",
    "    monitor='val_loss',  # Metric to monitor\n",
    "    patience=7,          # Number of epochs with no improvement to stop training\n",
    "    verbose=True,        # Enable verbose mode\n",
    "    mode='min'           # Mode 'min' to stop when the metric stops decreasing\n",
    ")\n",
    "# Initialize ModelCheckpoint callback\n",
    "checkpoint_callback = ModelCheckpoint(\n",
    "    monitor='val_loss',      # Metric to monitor\n",
    "    dirpath='checkpoints/',  # Directory to save checkpoints\n",
    "    filename='best-checkpoint',  # Filename for the best checkpoint\n",
    "    save_top_k=1,            # Save only the best checkpoint\n",
    "    mode='min',              # Mode 'min' to save the checkpoint with the lowest 'val_loss'\n",
    "    save_last=True,          # Save the final model\n",
    "    verbose=True\n",
    ")\n",
    "checkpoint_callback = ModelCheckpoint('./')\n",
    "trainer = pl.Trainer(max_epochs=8, logger=True, log_every_n_steps=1, val_check_interval=500, callbacks=[early_stop_callback, checkpoint_callback])\n",
    "trainer.fit(model, train_dataloader, val_dataloader)"
   ]
  },
  {
   "cell_type": "code",
   "execution_count": 435,
   "metadata": {},
   "outputs": [
    {
     "data": {
      "text/plain": [
       "0.36294931173324585"
      ]
     },
     "execution_count": 435,
     "metadata": {},
     "output_type": "execute_result"
    }
   ],
   "source": [
    "model.evaluate_threshhold(train_dataloader, 99.9999999999999999)"
   ]
  },
  {
   "cell_type": "code",
   "execution_count": 436,
   "metadata": {},
   "outputs": [
    {
     "data": {
      "image/png": "[encoded data removed]",
      "text/plain": [
       "<Figure size 1400x800 with 1 Axes>"
      ]
     },
     "metadata": {},
     "output_type": "display_data"
    }
   ],
   "source": [
    "model.eval()\n",
    "with torch.no_grad():\n",
    "    i = np.random.randint(0, len(val_dataset))\n",
    "    series = val_dataset[i][0].unsqueeze(0)\n",
    "    pred = model(val_dataset[i][0].unsqueeze(0))\n",
    "    # plot the time series\n",
    "plot_time_series_with_errors_area(series.squeeze().numpy(), pred.squeeze().numpy(), pred.squeeze().numpy()+model.threshold, pred.squeeze().numpy()-model.threshold)"
   ]
  },
  {
   "cell_type": "code",
   "execution_count": 439,
   "metadata": {},
   "outputs": [
    {
     "data": {
      "image/png": "[encoded data removed]",
      "text/plain": [
       "<Figure size 1200x600 with 1 Axes>"
      ]
     },
     "metadata": {},
     "output_type": "display_data"
    }
   ],
   "source": [
    "import torch\n",
    "import matplotlib.pyplot as plt\n",
    "import numpy as np\n",
    "\n",
    "# Assuming x_train and y_train are your data tensors\n",
    "# Example:\n",
    "# x_train = torch.randn(1000, 10, 10)  # 1000 samples, sequence length 10, 10 features each\n",
    "# y_train = torch.randn(1000, 10, 10)  # 1000 samples, sequence length 10, 10 targets each\n",
    "\n",
    "# Define a function to analyze the time series using the model\n",
    "def detect_anomalies(model, time_series, threshold, window_size):\n",
    "    model.eval()  # Set the model to evaluation mode\n",
    "    anomalies = []\n",
    "    predicted_values = []\n",
    "    with torch.no_grad():  # Disable gradient calculation\n",
    "        for i in range(0, len(time_series) - window_size + 1, window_size):\n",
    "            window = time_series[i:i + window_size].unsqueeze(0)  # Add batch dimension\n",
    "            prediction = model(window).squeeze(0)\n",
    "            predicted_values.extend(prediction.tolist())\n",
    "\n",
    "            error = torch.abs(prediction - window.squeeze(0))\n",
    "            for j in range(window_size):\n",
    "                if error[j].item() > threshold:\n",
    "                    anomalies.append(i + j)  # Mark the specific point as an anomaly\n",
    "    return anomalies, predicted_values\n",
    "\n",
    "# Example time series data (replace with your actual data)\n",
    "time_series_data = data['value'].values[0:4300].reshape(-1, 1)  # Replace with your actual time series data\n",
    "deseasonalized = torch.FloatTensor(scaler.transform(data['de_seasonalized'].values[0:4300].reshape(-1, 1)))\n",
    "window_size = SEQ_LEN  # Replace with your actual window size\n",
    "threshold = model.threshold*10  # Replace with your actual threshold for anomaly detection\n",
    "\n",
    "# Detect anomalies\n",
    "anomalies, predicted_values = detect_anomalies(model, deseasonalized, threshold, window_size)\n",
    "\n",
    "# Convert lists to numpy arrays for easier plotting\n",
    "predicted_values = np.array(predicted_values).flatten()\n",
    "\n",
    "# Plot the results\n",
    "plt.figure(figsize=(12, 6))\n",
    "plt.plot(time_series_data, label='Real Values', color='blue')\n",
    "plt.scatter(anomalies, time_series_data[anomalies], color='red', label='Anomalies', zorder=5)\n",
    "plt.xlabel('Time')\n",
    "plt.ylabel('Values')\n",
    "plt.legend()\n",
    "plt.title('Anomaly Detection in Time Series Data')\n",
    "plt.show()\n"
   ]
  },
  {
   "cell_type": "code",
   "execution_count": 444,
   "metadata": {},
   "outputs": [
    {
     "data": {
      "text/html": [
       "<div>\n",
       "<style scoped>\n",
       "    .dataframe tbody tr th:only-of-type {\n",
       "        vertical-align: middle;\n",
       "    }\n",
       "\n",
       "    .dataframe tbody tr th {\n",
       "        vertical-align: top;\n",
       "    }\n",
       "\n",
       "    .dataframe thead th {\n",
       "        text-align: right;\n",
       "    }\n",
       "</style>\n",
       "<table border=\"1\" class=\"dataframe\">\n",
       "  <thead>\n",
       "    <tr style=\"text-align: right;\">\n",
       "      <th></th>\n",
       "      <th>point</th>\n",
       "      <th>value</th>\n",
       "      <th>de_seasonalized</th>\n",
       "    </tr>\n",
       "  </thead>\n",
       "  <tbody>\n",
       "    <tr>\n",
       "      <th>0</th>\n",
       "      <td>2024-04-15 23:32:00</td>\n",
       "      <td>0.999679</td>\n",
       "      <td>0.999191</td>\n",
       "    </tr>\n",
       "    <tr>\n",
       "      <th>1</th>\n",
       "      <td>2024-04-15 23:33:00</td>\n",
       "      <td>0.999745</td>\n",
       "      <td>0.999275</td>\n",
       "    </tr>\n",
       "    <tr>\n",
       "      <th>2</th>\n",
       "      <td>2024-04-15 23:34:00</td>\n",
       "      <td>0.999687</td>\n",
       "      <td>0.999091</td>\n",
       "    </tr>\n",
       "    <tr>\n",
       "      <th>3</th>\n",
       "      <td>2024-04-15 23:35:00</td>\n",
       "      <td>0.999812</td>\n",
       "      <td>0.999340</td>\n",
       "    </tr>\n",
       "    <tr>\n",
       "      <th>4</th>\n",
       "      <td>2024-04-15 23:36:00</td>\n",
       "      <td>0.999489</td>\n",
       "      <td>0.999181</td>\n",
       "    </tr>\n",
       "    <tr>\n",
       "      <th>...</th>\n",
       "      <td>...</td>\n",
       "      <td>...</td>\n",
       "      <td>...</td>\n",
       "    </tr>\n",
       "    <tr>\n",
       "      <th>43267</th>\n",
       "      <td>2024-05-16 00:54:00</td>\n",
       "      <td>0.998828</td>\n",
       "      <td>0.997923</td>\n",
       "    </tr>\n",
       "    <tr>\n",
       "      <th>43268</th>\n",
       "      <td>2024-05-16 00:55:00</td>\n",
       "      <td>0.998495</td>\n",
       "      <td>0.997597</td>\n",
       "    </tr>\n",
       "    <tr>\n",
       "      <th>43269</th>\n",
       "      <td>2024-05-16 00:56:00</td>\n",
       "      <td>0.997736</td>\n",
       "      <td>0.996918</td>\n",
       "    </tr>\n",
       "    <tr>\n",
       "      <th>43270</th>\n",
       "      <td>2024-05-16 00:57:00</td>\n",
       "      <td>0.997999</td>\n",
       "      <td>0.997213</td>\n",
       "    </tr>\n",
       "    <tr>\n",
       "      <th>43271</th>\n",
       "      <td>2024-05-16 00:58:00</td>\n",
       "      <td>0.999145</td>\n",
       "      <td>0.998325</td>\n",
       "    </tr>\n",
       "  </tbody>\n",
       "</table>\n",
       "<p>43272 rows × 3 columns</p>\n",
       "</div>"
      ],
      "text/plain": [
       "                    point     value  de_seasonalized\n",
       "0     2024-04-15 23:32:00  0.999679         0.999191\n",
       "1     2024-04-15 23:33:00  0.999745         0.999275\n",
       "2     2024-04-15 23:34:00  0.999687         0.999091\n",
       "3     2024-04-15 23:35:00  0.999812         0.999340\n",
       "4     2024-04-15 23:36:00  0.999489         0.999181\n",
       "...                   ...       ...              ...\n",
       "43267 2024-05-16 00:54:00  0.998828         0.997923\n",
       "43268 2024-05-16 00:55:00  0.998495         0.997597\n",
       "43269 2024-05-16 00:56:00  0.997736         0.996918\n",
       "43270 2024-05-16 00:57:00  0.997999         0.997213\n",
       "43271 2024-05-16 00:58:00  0.999145         0.998325\n",
       "\n",
       "[43272 rows x 3 columns]"
      ]
     },
     "execution_count": 444,
     "metadata": {},
     "output_type": "execute_result"
    }
   ],
   "source": [
    "data"
   ]
  },
  {
   "cell_type": "code",
   "execution_count": 441,
   "metadata": {},
   "outputs": [
    {
     "name": "stdout",
     "output_type": "stream",
     "text": [
      "Checkpoint saved at epoch\n"
     ]
    }
   ],
   "source": [
    "save_checkpoint(model=model, scaler=scaler, threshold=model.threshold*10, path='apdex_model.pth')"
   ]
  },
  {
   "cell_type": "code",
   "execution_count": 442,
   "metadata": {},
   "outputs": [
    {
     "name": "stdout",
     "output_type": "stream",
     "text": [
      "Package                      Version\n",
      "---------------------------- ------------\n",
      "absl-py                      2.1.0\n",
      "aiohttp                      3.9.5\n",
      "aiosignal                    1.3.1\n",
      "asttokens                    2.4.1\n",
      "astunparse                   1.6.3\n",
      "async-timeout                4.0.3\n",
      "attrs                        23.2.0\n",
      "certifi                      2023.11.17\n",
      "charset-normalizer           3.3.2\n",
      "colorama                     0.4.6\n",
      "comm                         0.2.0\n",
      "contourpy                    1.2.1\n",
      "cycler                       0.12.1\n",
      "debugpy                      1.8.0\n",
      "decorator                    5.1.1\n",
      "exceptiongroup               1.2.0\n",
      "executing                    2.0.1\n",
      "filelock                     3.13.1\n",
      "flatbuffers                  24.3.25\n",
      "fonttools                    4.52.1\n",
      "frozenlist                   1.4.1\n",
      "fsspec                       2023.12.2\n",
      "gast                         0.5.4\n",
      "google-pasta                 0.2.0\n",
      "grpcio                       1.64.0\n",
      "h5py                         3.11.0\n",
      "idna                         3.6\n",
      "ipykernel                    6.27.1\n",
      "ipython                      8.18.1\n",
      "jedi                         0.19.1\n",
      "Jinja2                       3.1.2\n",
      "joblib                       1.3.2\n",
      "jupyter_client               8.6.0\n",
      "jupyter_core                 5.5.1\n",
      "keras                        3.3.3\n",
      "kiwisolver                   1.4.5\n",
      "libclang                     18.1.1\n",
      "lightning-utilities          0.11.2\n",
      "Markdown                     3.6\n",
      "markdown-it-py               3.0.0\n",
      "MarkupSafe                   2.1.3\n",
      "matplotlib                   3.9.0\n",
      "matplotlib-inline            0.1.6\n",
      "mdurl                        0.1.2\n",
      "ml-dtypes                    0.3.2\n",
      "mpmath                       1.3.0\n",
      "multidict                    6.0.5\n",
      "namex                        0.0.8\n",
      "nest-asyncio                 1.5.8\n",
      "networkx                     3.2.1\n",
      "numpy                        1.26.2\n",
      "opt-einsum                   3.3.0\n",
      "optree                       0.11.0\n",
      "packaging                    23.2\n",
      "pandas                       2.1.4\n",
      "parso                        0.8.3\n",
      "patch                        1.16\n",
      "patsy                        0.5.6\n",
      "Pillow                       10.1.0\n",
      "pip                          22.3.1\n",
      "platformdirs                 4.1.0\n",
      "prompt-toolkit               3.0.43\n",
      "protobuf                     4.25.3\n",
      "psutil                       5.9.7\n",
      "pure-eval                    0.2.2\n",
      "Pygments                     2.17.2\n",
      "Pyment                       0.3.3\n",
      "pyparsing                    3.1.2\n",
      "python-dateutil              2.8.2\n",
      "pytorch-lightning            2.2.5\n",
      "pytz                         2023.3.post1\n",
      "pywin32                      306\n",
      "PyYAML                       6.0.1\n",
      "pyzmq                        25.1.2\n",
      "requests                     2.31.0\n",
      "rich                         13.7.1\n",
      "scikit-learn                 1.3.2\n",
      "scipy                        1.11.4\n",
      "setuptools                   65.5.0\n",
      "six                          1.16.0\n",
      "stack-data                   0.6.3\n",
      "statsmodels                  0.14.2\n",
      "sympy                        1.12\n",
      "tensorboard                  2.16.2\n",
      "tensorboard-data-server      0.7.2\n",
      "tensorflow                   2.16.1\n",
      "tensorflow-intel             2.16.1\n",
      "tensorflow-io-gcs-filesystem 0.31.0\n",
      "termcolor                    2.4.0\n",
      "threadpoolctl                3.2.0\n",
      "torch                        2.1.2+cpu\n",
      "torchaudio                   2.1.2+cpu\n",
      "torchmetrics                 1.4.0.post0\n",
      "torchvision                  0.16.2+cpu\n",
      "tornado                      6.4\n",
      "tqdm                         4.66.4\n",
      "traitlets                    5.14.0\n",
      "typing_extensions            4.9.0\n",
      "tzdata                       2023.3\n",
      "urllib3                      2.1.0\n",
      "wcwidth                      0.2.12\n",
      "Werkzeug                     3.0.3\n",
      "wheel                        0.43.0\n",
      "wrapt                        1.16.0\n",
      "yarl                         1.9.4\n"
     ]
    },
    {
     "name": "stderr",
     "output_type": "stream",
     "text": [
      "\n",
      "[notice] A new release of pip available: 22.3.1 -> 24.0\n",
      "[notice] To update, run: python.exe -m pip install --upgrade pip\n"
     ]
    }
   ],
   "source": [
    "!pip list"
   ]
  },
  {
   "cell_type": "markdown",
   "metadata": {},
   "source": [
    "# Becnhmark"
   ]
  },
  {
   "cell_type": "code",
   "execution_count": null,
   "metadata": {},
   "outputs": [],
   "source": []
  },
  {
   "cell_type": "markdown",
   "metadata": {},
   "source": [
    "LSTM TRAINING"
   ]
  },
  {
   "cell_type": "code",
   "execution_count": 214,
   "metadata": {},
   "outputs": [
    {
     "data": {
      "text/plain": [
       "array([3898. , 3917.5, 3993. , ..., 2429. , 2373.5, 1170. ])"
      ]
     },
     "execution_count": 214,
     "metadata": {},
     "output_type": "execute_result"
    }
   ],
   "source": [
    "import torch\n",
    "import torch.nn as nn\n",
    "\n",
    "class LSTMModel(pl.LightningModule):\n",
    "    def __init__(self, input_dim, seq_len, hidden_dim=128, dropout_rate=0.2, loss=nn.L1Loss()):\n",
    "        super(LSTMModel, self).__init__()\n",
    "        self.hidden_dim = hidden_dim\n",
    "        self.seq_len = seq_len\n",
    "        self.input_dim = input_dim\n",
    "        \n",
    "        self.lstm1 = nn.LSTM(input_dim, hidden_dim, batch_first=True)\n",
    "        self.dropout1 = nn.Dropout(dropout_rate)\n",
    "        \n",
    "        self.repeat_vector = lambda x: x.unsqueeze(1).repeat(1, self.seq_len, 1)\n",
    "        \n",
    "        self.lstm2 = nn.LSTM(hidden_dim, hidden_dim, batch_first=True)\n",
    "        self.dropout2 = nn.Dropout(dropout_rate)\n",
    "        \n",
    "        self.time_distributed_dense = nn.Linear(hidden_dim, input_dim)\n",
    "        self.loss = loss\n",
    "\n",
    "    def forward(self, x):\n",
    "        # LSTM layer\n",
    "        x, _ = self.lstm1(x)\n",
    "        x = self.dropout1(x)\n",
    "        \n",
    "        # RepeatVector\n",
    "        x = self.repeat_vector(x[:, -1, :])\n",
    "        \n",
    "        # LSTM layer\n",
    "        x, _ = self.lstm2(x)\n",
    "        x = self.dropout2(x)\n",
    "        \n",
    "        # TimeDistributed Dense layer\n",
    "        x = self.time_distributed_dense(x)\n",
    "        return x\n",
    "    \n",
    "    \n",
    "    def training_step(self, batch, batch_idx):\n",
    "        x, _ = batch\n",
    "        y_pred = self(x)\n",
    "        loss = self.loss(y_pred, x)\n",
    "        self.log('train_loss', loss, on_step=True, on_epoch=True, prog_bar=True, logger=True)\n",
    "        return {'loss': loss}\n",
    "    \n",
    "    def validation_step(self, batch, batch_idx):\n",
    "        x, y = batch\n",
    "        y_hat = self.forward(x)\n",
    "        loss = self.loss(y_hat, y)\n",
    "        self.log('val_loss', loss, on_step=True, on_epoch=True, prog_bar=True, logger=True)\n",
    "\n",
    "    def configure_optimizers(self):\n",
    "        optimizer = torch.optim.Adam(self.parameters(), lr=0.0001)\n",
    "        return optimizer\n",
    "    \n",
    "    # Function to evaluate model on validation set\n",
    "    def evaluate_threshhold(self, val_loader, percentile):\n",
    "        self.eval()  # Set model to evaluation mode\n",
    "        val_loss = []\n",
    "        criterion = nn.L1Loss()\n",
    "        with torch.no_grad():  # Disable gradient calculation\n",
    "            for x, y in val_loader:\n",
    "                y_hat = self(x)\n",
    "                loss = criterion(y_hat, y)\n",
    "                val_loss.append(loss.item())\n",
    "        THRESHOLD = np.percentile(val_loss, percentile)\n",
    "        self.threshold = THRESHOLD\n",
    "        return THRESHOLD\n"
   ]
  },
  {
   "cell_type": "code",
   "execution_count": 223,
   "metadata": {},
   "outputs": [],
   "source": [
    "scaler = get_scaler(data['value'].values)\n",
    "dataset, train_dataloader, val_dataloader = create_dataloader(data['value'].values, scaler, 20, 0.8)"
   ]
  },
  {
   "cell_type": "code",
   "execution_count": 225,
   "metadata": {},
   "outputs": [
    {
     "name": "stderr",
     "output_type": "stream",
     "text": [
      "GPU available: False, used: False\n",
      "TPU available: False, using: 0 TPU cores\n",
      "IPU available: False, using: 0 IPUs\n",
      "HPU available: False, using: 0 HPUs\n",
      "\n",
      "  | Name                   | Type    | Params\n",
      "---------------------------------------------------\n",
      "0 | lstm1                  | LSTM    | 67.1 K\n",
      "1 | dropout1               | Dropout | 0     \n",
      "2 | lstm2                  | LSTM    | 132 K \n",
      "3 | dropout2               | Dropout | 0     \n",
      "4 | time_distributed_dense | Linear  | 129   \n",
      "5 | loss                   | L1Loss  | 0     \n",
      "---------------------------------------------------\n",
      "199 K     Trainable params\n",
      "0         Non-trainable params\n",
      "199 K     Total params\n",
      "0.797     Total estimated model params size (MB)\n"
     ]
    },
    {
     "name": "stdout",
     "output_type": "stream",
     "text": [
      "Sanity Checking DataLoader 0:  50%|█████     | 1/2 [00:00<00:00, 87.72it/s]"
     ]
    },
    {
     "name": "stdout",
     "output_type": "stream",
     "text": [
      "                                                                           "
     ]
    },
    {
     "name": "stderr",
     "output_type": "stream",
     "text": [
      "d:\\courses\\MLsimulator\\venv\\lib\\site-packages\\pytorch_lightning\\trainer\\connectors\\data_connector.py:441: The 'train_dataloader' does not have many workers which may be a bottleneck. Consider increasing the value of the `num_workers` argument` to `num_workers=7` in the `DataLoader` to improve performance.\n"
     ]
    },
    {
     "name": "stdout",
     "output_type": "stream",
     "text": [
      "Epoch 0:   9%|▉         | 100/1082 [00:02<00:24, 40.56it/s, v_num=47, train_loss_step=0.237]"
     ]
    },
    {
     "name": "stderr",
     "output_type": "stream",
     "text": [
      "Metric val_loss improved. New best score: 0.259\n"
     ]
    },
    {
     "name": "stdout",
     "output_type": "stream",
     "text": [
      "Epoch 0:  18%|█▊        | 200/1082 [00:08<00:36, 24.18it/s, v_num=47, train_loss_step=0.168, val_loss_step=0.268, val_loss_epoch=0.259]"
     ]
    },
    {
     "name": "stderr",
     "output_type": "stream",
     "text": [
      "Metric val_loss improved by 0.078 >= min_delta = 0.0. New best score: 0.181\n"
     ]
    },
    {
     "name": "stdout",
     "output_type": "stream",
     "text": [
      "Epoch 0:  28%|██▊       | 300/1082 [00:14<00:36, 21.18it/s, v_num=47, train_loss_step=0.172, val_loss_step=0.137, val_loss_epoch=0.181]"
     ]
    },
    {
     "name": "stderr",
     "output_type": "stream",
     "text": [
      "Metric val_loss improved by 0.022 >= min_delta = 0.0. New best score: 0.159\n"
     ]
    },
    {
     "name": "stdout",
     "output_type": "stream",
     "text": [
      "Epoch 0:  37%|███▋      | 400/1082 [00:20<00:34, 19.82it/s, v_num=47, train_loss_step=0.195, val_loss_step=0.198, val_loss_epoch=0.159]"
     ]
    },
    {
     "name": "stderr",
     "output_type": "stream",
     "text": [
      "Metric val_loss improved by 0.006 >= min_delta = 0.0. New best score: 0.154\n"
     ]
    },
    {
     "name": "stdout",
     "output_type": "stream",
     "text": [
      "Epoch 0:  46%|████▌     | 500/1082 [00:26<00:31, 18.71it/s, v_num=47, train_loss_step=0.188, val_loss_step=0.110, val_loss_epoch=0.154]"
     ]
    },
    {
     "name": "stderr",
     "output_type": "stream",
     "text": [
      "Metric val_loss improved by 0.002 >= min_delta = 0.0. New best score: 0.152\n"
     ]
    },
    {
     "name": "stdout",
     "output_type": "stream",
     "text": [
      "Epoch 0:  55%|█████▌    | 600/1082 [00:33<00:26, 18.14it/s, v_num=47, train_loss_step=0.155, val_loss_step=0.165, val_loss_epoch=0.152]"
     ]
    },
    {
     "name": "stderr",
     "output_type": "stream",
     "text": [
      "Metric val_loss improved by 0.004 >= min_delta = 0.0. New best score: 0.147\n"
     ]
    },
    {
     "name": "stdout",
     "output_type": "stream",
     "text": [
      "Epoch 0:  65%|██████▍   | 700/1082 [00:40<00:21, 17.38it/s, v_num=47, train_loss_step=0.174, val_loss_step=0.0837, val_loss_epoch=0.147]"
     ]
    },
    {
     "name": "stderr",
     "output_type": "stream",
     "text": [
      "Metric val_loss improved by 0.000 >= min_delta = 0.0. New best score: 0.147\n"
     ]
    },
    {
     "name": "stdout",
     "output_type": "stream",
     "text": [
      "Epoch 0:  74%|███████▍  | 800/1082 [00:47<00:16, 16.84it/s, v_num=47, train_loss_step=0.121, val_loss_step=0.134, val_loss_epoch=0.147] "
     ]
    },
    {
     "name": "stderr",
     "output_type": "stream",
     "text": [
      "Metric val_loss improved by 0.003 >= min_delta = 0.0. New best score: 0.144\n"
     ]
    },
    {
     "name": "stdout",
     "output_type": "stream",
     "text": [
      "Epoch 0:  83%|████████▎ | 900/1082 [00:54<00:10, 16.67it/s, v_num=47, train_loss_step=0.148, val_loss_step=0.128, val_loss_epoch=0.144] "
     ]
    },
    {
     "name": "stderr",
     "output_type": "stream",
     "text": [
      "Metric val_loss improved by 0.001 >= min_delta = 0.0. New best score: 0.143\n"
     ]
    },
    {
     "name": "stdout",
     "output_type": "stream",
     "text": [
      "Epoch 0:  92%|█████████▏| 1000/1082 [01:01<00:05, 16.30it/s, v_num=47, train_loss_step=0.106, val_loss_step=0.397, val_loss_epoch=0.143]"
     ]
    },
    {
     "name": "stderr",
     "output_type": "stream",
     "text": [
      "Metric val_loss improved by 0.001 >= min_delta = 0.0. New best score: 0.142\n"
     ]
    },
    {
     "name": "stdout",
     "output_type": "stream",
     "text": [
      "Epoch 1:   9%|▉         | 100/1082 [00:02<00:25, 38.33it/s, v_num=47, train_loss_step=0.136, val_loss_step=0.126, val_loss_epoch=0.142, train_loss_epoch=0.211] "
     ]
    },
    {
     "name": "stderr",
     "output_type": "stream",
     "text": [
      "Metric val_loss improved by 0.002 >= min_delta = 0.0. New best score: 0.140\n"
     ]
    },
    {
     "name": "stdout",
     "output_type": "stream",
     "text": [
      "Epoch 1:  18%|█▊        | 200/1082 [00:09<00:40, 21.89it/s, v_num=47, train_loss_step=0.199, val_loss_step=0.116, val_loss_epoch=0.140, train_loss_epoch=0.211]"
     ]
    },
    {
     "name": "stderr",
     "output_type": "stream",
     "text": [
      "Metric val_loss improved by 0.001 >= min_delta = 0.0. New best score: 0.139\n"
     ]
    },
    {
     "name": "stdout",
     "output_type": "stream",
     "text": [
      "Epoch 1:  28%|██▊       | 300/1082 [00:15<00:40, 19.45it/s, v_num=47, train_loss_step=0.185, val_loss_step=0.102, val_loss_epoch=0.139, train_loss_epoch=0.211] "
     ]
    },
    {
     "name": "stderr",
     "output_type": "stream",
     "text": [
      "Metric val_loss improved by 0.000 >= min_delta = 0.0. New best score: 0.139\n"
     ]
    },
    {
     "name": "stdout",
     "output_type": "stream",
     "text": [
      "Epoch 1:  37%|███▋      | 400/1082 [00:22<00:37, 17.98it/s, v_num=47, train_loss_step=0.105, val_loss_step=0.0912, val_loss_epoch=0.139, train_loss_epoch=0.211] "
     ]
    },
    {
     "name": "stderr",
     "output_type": "stream",
     "text": [
      "Metric val_loss improved by 0.000 >= min_delta = 0.0. New best score: 0.139\n"
     ]
    },
    {
     "name": "stdout",
     "output_type": "stream",
     "text": [
      "Epoch 1:  46%|████▌     | 500/1082 [00:28<00:33, 17.35it/s, v_num=47, train_loss_step=0.166, val_loss_step=0.138, val_loss_epoch=0.139, train_loss_epoch=0.211] "
     ]
    },
    {
     "name": "stderr",
     "output_type": "stream",
     "text": [
      "Monitored metric val_loss did not improve in the last 1 records. Best score: 0.139. Signaling Trainer to stop.\n"
     ]
    },
    {
     "name": "stdout",
     "output_type": "stream",
     "text": [
      "Epoch 1:  46%|████▌     | 500/1082 [00:32<00:38, 15.29it/s, v_num=47, train_loss_step=0.166, val_loss_step=0.121, val_loss_epoch=0.143, train_loss_epoch=0.151]"
     ]
    },
    {
     "name": "stderr",
     "output_type": "stream",
     "text": [
      "`Trainer.fit` stopped: `max_epochs=2` reached.\n"
     ]
    },
    {
     "name": "stdout",
     "output_type": "stream",
     "text": [
      "Epoch 1:  46%|████▌     | 500/1082 [00:32<00:38, 15.29it/s, v_num=47, train_loss_step=0.166, val_loss_step=0.121, val_loss_epoch=0.143, train_loss_epoch=0.151]\n"
     ]
    }
   ],
   "source": [
    "# Instantiate the model\n",
    "model = LSTMModel(input_dim=1, hidden_dim=128, seq_len=20)\n",
    "# Initialize EarlyStopping callback\n",
    "early_stop_callback = EarlyStopping(\n",
    "    monitor='val_loss',  # Metric to monitor\n",
    "    patience=0,          # Number of epochs with no improvement to stop training\n",
    "    verbose=True,        # Enable verbose mode\n",
    "    mode='min'           # Mode 'min' to stop when the metric stops decreasing\n",
    ")\n",
    "# Initialize ModelCheckpoint callback\n",
    "checkpoint_callback = ModelCheckpoint(\n",
    "    monitor='val_loss',      # Metric to monitor\n",
    "    dirpath='checkpoints/',  # Directory to save checkpoints\n",
    "    filename='best-checkpoint',  # Filename for the best checkpoint\n",
    "    save_top_k=1,            # Save only the best checkpoint\n",
    "    mode='min',              # Mode 'min' to save the checkpoint with the lowest 'val_loss'\n",
    "    save_last=True,          # Save the final model\n",
    "    verbose=True\n",
    ")\n",
    "checkpoint_callback = ModelCheckpoint('./')\n",
    "trainer = pl.Trainer(max_epochs=2, logger=True, log_every_n_steps=1, val_check_interval=100, callbacks=[early_stop_callback, checkpoint_callback])\n",
    "trainer.fit(model, train_dataloader, val_dataloader)"
   ]
  }
 ],
 "metadata": {
  "kernelspec": {
   "display_name": "venv",
   "language": "python",
   "name": "python3"
  },
  "language_info": {
   "codemirror_mode": {
    "name": "ipython",
    "version": 3
   },
   "file_extension": ".py",
   "mimetype": "text/x-python",
   "name": "python",
   "nbconvert_exporter": "python",
   "pygments_lexer": "ipython3",
   "version": "3.10.9"
  }
 },
 "nbformat": 4,
 "nbformat_minor": 2
}
