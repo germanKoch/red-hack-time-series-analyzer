{
 "cells": [
  {
   "cell_type": "code",
   "execution_count": 1,
   "metadata": {},
   "outputs": [],
   "source": [
    "import pandas as pd"
   ]
  },
  {
   "cell_type": "code",
   "execution_count": 28,
   "metadata": {},
   "outputs": [
    {
     "name": "stderr",
     "output_type": "stream",
     "text": [
      "C:\\Users\\germi\\AppData\\Local\\Temp\\ipykernel_2476\\2427093020.py:3: DtypeWarning: Columns (13) have mixed types. Specify dtype option on import or set low_memory=False.\n",
      "  data = pd.read_csv('.././data/metrics_collector.tsv', sep='\\t',names=['account_id', 'name', 'point', 'call_count', 'total_call_time', 'total_exclusive_time', 'min_call_time', 'max_call_time', 'sum_of_squares', 'instances', 'language', 'app_name', 'app_id', 'scope', 'host', 'display_host', 'pid', 'agent_version', 'labels'], header=None)\n"
     ]
    }
   ],
   "source": [
    "# Columns: account_id, name, point, call_count, total_call_time, total_exclusive_time, min_call_time, max_call_time, sum_of_squares, instances, language, app_name, app_id, scope, host, display_host, pid, agent_version, labels\n",
    "# do not exepct index column\n",
    "data = pd.read_csv('.././data/metrics_collector.tsv', sep='\\t',names=['account_id', 'name', 'point', 'call_count', 'total_call_time', 'total_exclusive_time', 'min_call_time', 'max_call_time', 'sum_of_squares', 'instances', 'language', 'app_name', 'app_id', 'scope', 'host', 'display_host', 'pid', 'agent_version', 'labels'], header=None)\n",
    "data['point'] = pd.to_datetime(data['point'])\n",
    "data['scope'].fillna('', inplace=True)"
   ]
  },
  {
   "cell_type": "code",
   "execution_count": 43,
   "metadata": {},
   "outputs": [],
   "source": [
    "filtered_data = data[\n",
    "    (data['language'] == 'java') &\n",
    "    (data['app_name'] == '[GMonit] Collector') &\n",
    "    (data['scope'] == '') &\n",
    "    (data['name'] == 'HttpDispatcher')\n",
    "]\n",
    "\n",
    "# Group by 'point' and calculate the sum and mean\n",
    "web_response = filtered_data.groupby('point').apply(\n",
    "    lambda x: pd.Series({\n",
    "        'web_response': x['total_call_time'].sum() / x['call_count'].sum()\n",
    "    })\n",
    ").reset_index()\n",
    "web_response = web_response.sort_values(by='point')\n"
   ]
  },
  {
   "cell_type": "code",
   "execution_count": 47,
   "metadata": {},
   "outputs": [],
   "source": [
    "filtered_data = data[\n",
    "    (data['language'] == 'java') &\n",
    "    (data['app_name'] == '[GMonit] Collector') &\n",
    "    (data['scope'] == '') &\n",
    "    (data['name'] == 'HttpDispatcher')\n",
    "]\n",
    "throughput = filtered_data.groupby('point')['call_count'].sum().reset_index()\n",
    "throughput.columns = ['point', 'sum_call_count']\n",
    "throughput  = throughput.sort_values(by='point')\n"
   ]
  },
  {
   "cell_type": "code",
   "execution_count": 49,
   "metadata": {},
   "outputs": [],
   "source": [
    "import pandas as pd\n",
    "\n",
    "filtered_data = data[\n",
    "    (data['language'] == 'java') &\n",
    "    (data['app_name'] == '[GMonit] Collector') &\n",
    "    (data['scope'] == '') &\n",
    "    (data['name'] == 'Apdex')\n",
    "]\n",
    "grouped_data = filtered_data.groupby('point').agg({\n",
    "    'call_count': 'sum',\n",
    "    'total_call_time': 'sum',\n",
    "    'total_exclusive_time': 'sum'\n",
    "}).reset_index()\n",
    "grouped_data[' '] = (grouped_data['call_count'] + grouped_data['total_call_time'] / 2) / (\n",
    "    grouped_data['call_count'] + grouped_data['total_call_time'] + grouped_data['total_exclusive_time']\n",
    ")\n",
    "grouped_data = grouped_data.rename(columns={'point': 'time'})\n",
    "apdex = grouped_data[['time', ' ']]\n",
    "apdex = apdex.sort_values(by='time')\n"
   ]
  },
  {
   "cell_type": "code",
   "execution_count": 50,
   "metadata": {},
   "outputs": [
    {
     "data": {
      "text/html": [
       "<div>\n",
       "<style scoped>\n",
       "    .dataframe tbody tr th:only-of-type {\n",
       "        vertical-align: middle;\n",
       "    }\n",
       "\n",
       "    .dataframe tbody tr th {\n",
       "        vertical-align: top;\n",
       "    }\n",
       "\n",
       "    .dataframe thead th {\n",
       "        text-align: right;\n",
       "    }\n",
       "</style>\n",
       "<table border=\"1\" class=\"dataframe\">\n",
       "  <thead>\n",
       "    <tr style=\"text-align: right;\">\n",
       "      <th></th>\n",
       "      <th>time</th>\n",
       "      <th></th>\n",
       "    </tr>\n",
       "  </thead>\n",
       "  <tbody>\n",
       "    <tr>\n",
       "      <th>0</th>\n",
       "      <td>2024-04-15 23:32:00</td>\n",
       "      <td>0.999679</td>\n",
       "    </tr>\n",
       "    <tr>\n",
       "      <th>1</th>\n",
       "      <td>2024-04-15 23:33:00</td>\n",
       "      <td>0.999745</td>\n",
       "    </tr>\n",
       "    <tr>\n",
       "      <th>2</th>\n",
       "      <td>2024-04-15 23:34:00</td>\n",
       "      <td>0.999687</td>\n",
       "    </tr>\n",
       "    <tr>\n",
       "      <th>3</th>\n",
       "      <td>2024-04-15 23:35:00</td>\n",
       "      <td>0.999812</td>\n",
       "    </tr>\n",
       "    <tr>\n",
       "      <th>4</th>\n",
       "      <td>2024-04-15 23:36:00</td>\n",
       "      <td>0.999489</td>\n",
       "    </tr>\n",
       "    <tr>\n",
       "      <th>...</th>\n",
       "      <td>...</td>\n",
       "      <td>...</td>\n",
       "    </tr>\n",
       "    <tr>\n",
       "      <th>43267</th>\n",
       "      <td>2024-05-16 00:54:00</td>\n",
       "      <td>0.998828</td>\n",
       "    </tr>\n",
       "    <tr>\n",
       "      <th>43268</th>\n",
       "      <td>2024-05-16 00:55:00</td>\n",
       "      <td>0.998495</td>\n",
       "    </tr>\n",
       "    <tr>\n",
       "      <th>43269</th>\n",
       "      <td>2024-05-16 00:56:00</td>\n",
       "      <td>0.997736</td>\n",
       "    </tr>\n",
       "    <tr>\n",
       "      <th>43270</th>\n",
       "      <td>2024-05-16 00:57:00</td>\n",
       "      <td>0.997999</td>\n",
       "    </tr>\n",
       "    <tr>\n",
       "      <th>43271</th>\n",
       "      <td>2024-05-16 00:58:00</td>\n",
       "      <td>0.999145</td>\n",
       "    </tr>\n",
       "  </tbody>\n",
       "</table>\n",
       "<p>43272 rows × 2 columns</p>\n",
       "</div>"
      ],
      "text/plain": [
       "                     time          \n",
       "0     2024-04-15 23:32:00  0.999679\n",
       "1     2024-04-15 23:33:00  0.999745\n",
       "2     2024-04-15 23:34:00  0.999687\n",
       "3     2024-04-15 23:35:00  0.999812\n",
       "4     2024-04-15 23:36:00  0.999489\n",
       "...                   ...       ...\n",
       "43267 2024-05-16 00:54:00  0.998828\n",
       "43268 2024-05-16 00:55:00  0.998495\n",
       "43269 2024-05-16 00:56:00  0.997736\n",
       "43270 2024-05-16 00:57:00  0.997999\n",
       "43271 2024-05-16 00:58:00  0.999145\n",
       "\n",
       "[43272 rows x 2 columns]"
      ]
     },
     "execution_count": 50,
     "metadata": {},
     "output_type": "execute_result"
    }
   ],
   "source": [
    "apdex"
   ]
  },
  {
   "cell_type": "code",
   "execution_count": null,
   "metadata": {},
   "outputs": [],
   "source": []
  }
 ],
 "metadata": {
  "kernelspec": {
   "display_name": "venv",
   "language": "python",
   "name": "python3"
  },
  "language_info": {
   "codemirror_mode": {
    "name": "ipython",
    "version": 3
   },
   "file_extension": ".py",
   "mimetype": "text/x-python",
   "name": "python",
   "nbconvert_exporter": "python",
   "pygments_lexer": "ipython3",
   "version": "3.10.9"
  }
 },
 "nbformat": 4,
 "nbformat_minor": 2
}
